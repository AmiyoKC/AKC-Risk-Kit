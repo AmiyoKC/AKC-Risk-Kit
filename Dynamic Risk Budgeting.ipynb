{
 "cells": [
  {
   "cell_type": "markdown",
   "metadata": {},
   "source": [
    "## Dynamic Risk Budgeting"
   ]
  },
  {
   "cell_type": "code",
   "execution_count": 31,
   "metadata": {},
   "outputs": [
    {
     "name": "stdout",
     "output_type": "stream",
     "text": [
      "The autoreload extension is already loaded. To reload it, use:\n",
      "  %reload_ext autoreload\n"
     ]
    }
   ],
   "source": [
    "import numpy as np\n",
    "import pandas as pd\n",
    "import AKCRiskKit as ark\n",
    "import ipywidgets as widgets\n",
    "import seaborn as sns\n",
    "import matplotlib.pyplot as plt\n",
    "%load_ext autoreload\n",
    "%autoreload 2"
   ]
  },
  {
   "cell_type": "code",
   "execution_count": 6,
   "metadata": {},
   "outputs": [],
   "source": [
    "n_scenarios = 5000\n",
    "rates, zc_prices = ark.cir(10,n_scenarios=n_scenarios,b=0.03,r_0=0.03,sigma=0.02)\n",
    "price_eq = ark.gbm(10,n_scenarios=n_scenarios,mu=0.07,sigma=0.15)"
   ]
  },
  {
   "cell_type": "code",
   "execution_count": 13,
   "metadata": {},
   "outputs": [
    {
     "data": {
      "text/html": [
       "<div>\n",
       "<style scoped>\n",
       "    .dataframe tbody tr th:only-of-type {\n",
       "        vertical-align: middle;\n",
       "    }\n",
       "\n",
       "    .dataframe tbody tr th {\n",
       "        vertical-align: top;\n",
       "    }\n",
       "\n",
       "    .dataframe thead th {\n",
       "        text-align: right;\n",
       "    }\n",
       "</style>\n",
       "<table border=\"1\" class=\"dataframe\">\n",
       "  <thead>\n",
       "    <tr style=\"text-align: right;\">\n",
       "      <th></th>\n",
       "      <th>zc</th>\n",
       "      <th>Equity</th>\n",
       "      <th>Floor 75</th>\n",
       "    </tr>\n",
       "  </thead>\n",
       "  <tbody>\n",
       "    <tr>\n",
       "      <th>mean</th>\n",
       "      <td>1.34</td>\n",
       "      <td>1.98</td>\n",
       "      <td>1.96</td>\n",
       "    </tr>\n",
       "    <tr>\n",
       "      <th>std</th>\n",
       "      <td>0.00</td>\n",
       "      <td>1.01</td>\n",
       "      <td>1.01</td>\n",
       "    </tr>\n",
       "    <tr>\n",
       "      <th>p_breach</th>\n",
       "      <td>NaN</td>\n",
       "      <td>0.04</td>\n",
       "      <td>NaN</td>\n",
       "    </tr>\n",
       "    <tr>\n",
       "      <th>e_short</th>\n",
       "      <td>NaN</td>\n",
       "      <td>0.12</td>\n",
       "      <td>NaN</td>\n",
       "    </tr>\n",
       "    <tr>\n",
       "      <th>p_reach</th>\n",
       "      <td>NaN</td>\n",
       "      <td>NaN</td>\n",
       "      <td>NaN</td>\n",
       "    </tr>\n",
       "    <tr>\n",
       "      <th>e_surplus</th>\n",
       "      <td>NaN</td>\n",
       "      <td>NaN</td>\n",
       "      <td>NaN</td>\n",
       "    </tr>\n",
       "  </tbody>\n",
       "</table>\n",
       "</div>"
      ],
      "text/plain": [
       "             zc  Equity  Floor 75\n",
       "mean       1.34    1.98      1.96\n",
       "std        0.00    1.01      1.01\n",
       "p_breach    NaN    0.04       NaN\n",
       "e_short     NaN    0.12       NaN\n",
       "p_reach     NaN     NaN       NaN\n",
       "e_surplus   NaN     NaN       NaN"
      ]
     },
     "execution_count": 13,
     "metadata": {},
     "output_type": "execute_result"
    }
   ],
   "source": [
    "rets_eq = price_eq.pct_change().dropna()\n",
    "rets_zc = zc_prices.pct_change().dropna()\n",
    "rets_75floor = ark.bt_mix(rets_eq,rets_zc,allocator=ark.floor_allocator, floor=0.75,zc_prices=zc_prices[1:])\n",
    "pd.concat([\n",
    "    ark.terminal_stats(rets_zc,name=\"zc\",floor=0.75),\n",
    "    ark.terminal_stats(rets_eq,name=\"Equity\",floor=0.75),\n",
    "    ark.terminal_stats(rets_75floor,name=\"Floor 75\",floor=0.75)\n",
    "\n",
    "    ],axis=1).round(2)"
   ]
  },
  {
   "cell_type": "code",
   "execution_count": 16,
   "metadata": {},
   "outputs": [],
   "source": [
    "rets_75floorm1 = ark.bt_mix(rets_eq,rets_zc,allocator=ark.floor_allocator, floor=0.75,zc_prices=zc_prices[1:],m=1)\n",
    "rets_75floorm5 = ark.bt_mix(rets_eq,rets_zc,allocator=ark.floor_allocator, floor=0.75,zc_prices=zc_prices[1:],m=5)\n"
   ]
  },
  {
   "cell_type": "code",
   "execution_count": 17,
   "metadata": {},
   "outputs": [
    {
     "data": {
      "text/html": [
       "<div>\n",
       "<style scoped>\n",
       "    .dataframe tbody tr th:only-of-type {\n",
       "        vertical-align: middle;\n",
       "    }\n",
       "\n",
       "    .dataframe tbody tr th {\n",
       "        vertical-align: top;\n",
       "    }\n",
       "\n",
       "    .dataframe thead th {\n",
       "        text-align: right;\n",
       "    }\n",
       "</style>\n",
       "<table border=\"1\" class=\"dataframe\">\n",
       "  <thead>\n",
       "    <tr style=\"text-align: right;\">\n",
       "      <th></th>\n",
       "      <th>zc</th>\n",
       "      <th>Equity</th>\n",
       "      <th>Floor 75</th>\n",
       "      <th>Floor 75</th>\n",
       "      <th>Floor 75</th>\n",
       "    </tr>\n",
       "  </thead>\n",
       "  <tbody>\n",
       "    <tr>\n",
       "      <th>mean</th>\n",
       "      <td>1.34</td>\n",
       "      <td>1.98</td>\n",
       "      <td>1.96</td>\n",
       "      <td>1.63</td>\n",
       "      <td>1.97</td>\n",
       "    </tr>\n",
       "    <tr>\n",
       "      <th>std</th>\n",
       "      <td>0.00</td>\n",
       "      <td>1.01</td>\n",
       "      <td>1.01</td>\n",
       "      <td>0.45</td>\n",
       "      <td>1.02</td>\n",
       "    </tr>\n",
       "    <tr>\n",
       "      <th>p_breach</th>\n",
       "      <td>NaN</td>\n",
       "      <td>0.04</td>\n",
       "      <td>NaN</td>\n",
       "      <td>NaN</td>\n",
       "      <td>NaN</td>\n",
       "    </tr>\n",
       "    <tr>\n",
       "      <th>e_short</th>\n",
       "      <td>NaN</td>\n",
       "      <td>0.12</td>\n",
       "      <td>NaN</td>\n",
       "      <td>NaN</td>\n",
       "      <td>NaN</td>\n",
       "    </tr>\n",
       "    <tr>\n",
       "      <th>p_reach</th>\n",
       "      <td>NaN</td>\n",
       "      <td>NaN</td>\n",
       "      <td>NaN</td>\n",
       "      <td>NaN</td>\n",
       "      <td>NaN</td>\n",
       "    </tr>\n",
       "    <tr>\n",
       "      <th>e_surplus</th>\n",
       "      <td>NaN</td>\n",
       "      <td>NaN</td>\n",
       "      <td>NaN</td>\n",
       "      <td>NaN</td>\n",
       "      <td>NaN</td>\n",
       "    </tr>\n",
       "  </tbody>\n",
       "</table>\n",
       "</div>"
      ],
      "text/plain": [
       "             zc  Equity  Floor 75  Floor 75  Floor 75\n",
       "mean       1.34    1.98      1.96      1.63      1.97\n",
       "std        0.00    1.01      1.01      0.45      1.02\n",
       "p_breach    NaN    0.04       NaN       NaN       NaN\n",
       "e_short     NaN    0.12       NaN       NaN       NaN\n",
       "p_reach     NaN     NaN       NaN       NaN       NaN\n",
       "e_surplus   NaN     NaN       NaN       NaN       NaN"
      ]
     },
     "execution_count": 17,
     "metadata": {},
     "output_type": "execute_result"
    }
   ],
   "source": [
    "pd.concat([\n",
    "    ark.terminal_stats(rets_zc,name=\"zc\",floor=0.75),\n",
    "    ark.terminal_stats(rets_eq,name=\"Equity\",floor=0.75),\n",
    "    ark.terminal_stats(rets_75floor,name=\"Floor 75\",floor=0.75),\n",
    "    ark.terminal_stats(rets_75floorm1,name=\"Floor 75\",floor=0.75),\n",
    "    ark.terminal_stats(rets_75floorm5,name=\"Floor 75\",floor=0.75)\n",
    "\n",
    "    ],axis=1).round(2)"
   ]
  },
  {
   "cell_type": "markdown",
   "metadata": {},
   "source": [
    "## Risk Budgeting with Drawdown Constraints"
   ]
  },
  {
   "cell_type": "code",
   "execution_count": 19,
   "metadata": {},
   "outputs": [],
   "source": [
    "cashrate = 0.02\n",
    "monthly_cash_return = (1+cashrate)**(1/12) - 1\n",
    "rets_cash = pd.DataFrame(data=monthly_cash_return, index = rets_eq.index,columns = rets_eq.columns)\n",
    "rets_maxdd25 = ark.bt_mix(rets_eq,rets_cash,allocator=ark.drawdown_allocator,maxdd=0.25)"
   ]
  },
  {
   "cell_type": "code",
   "execution_count": 20,
   "metadata": {},
   "outputs": [
    {
     "data": {
      "text/html": [
       "<div>\n",
       "<style scoped>\n",
       "    .dataframe tbody tr th:only-of-type {\n",
       "        vertical-align: middle;\n",
       "    }\n",
       "\n",
       "    .dataframe tbody tr th {\n",
       "        vertical-align: top;\n",
       "    }\n",
       "\n",
       "    .dataframe thead th {\n",
       "        text-align: right;\n",
       "    }\n",
       "</style>\n",
       "<table border=\"1\" class=\"dataframe\">\n",
       "  <thead>\n",
       "    <tr style=\"text-align: right;\">\n",
       "      <th></th>\n",
       "      <th>zc</th>\n",
       "      <th>Equity</th>\n",
       "      <th>Floor 75</th>\n",
       "      <th>Floor 75</th>\n",
       "      <th>Floor 75</th>\n",
       "      <th>Max DD 25</th>\n",
       "    </tr>\n",
       "  </thead>\n",
       "  <tbody>\n",
       "    <tr>\n",
       "      <th>mean</th>\n",
       "      <td>1.34</td>\n",
       "      <td>1.98</td>\n",
       "      <td>1.96</td>\n",
       "      <td>1.63</td>\n",
       "      <td>1.97</td>\n",
       "      <td>1.64</td>\n",
       "    </tr>\n",
       "    <tr>\n",
       "      <th>std</th>\n",
       "      <td>0.00</td>\n",
       "      <td>1.01</td>\n",
       "      <td>1.01</td>\n",
       "      <td>0.45</td>\n",
       "      <td>1.02</td>\n",
       "      <td>0.55</td>\n",
       "    </tr>\n",
       "    <tr>\n",
       "      <th>p_breach</th>\n",
       "      <td>NaN</td>\n",
       "      <td>0.04</td>\n",
       "      <td>NaN</td>\n",
       "      <td>NaN</td>\n",
       "      <td>NaN</td>\n",
       "      <td>NaN</td>\n",
       "    </tr>\n",
       "    <tr>\n",
       "      <th>e_short</th>\n",
       "      <td>NaN</td>\n",
       "      <td>0.12</td>\n",
       "      <td>NaN</td>\n",
       "      <td>NaN</td>\n",
       "      <td>NaN</td>\n",
       "      <td>NaN</td>\n",
       "    </tr>\n",
       "    <tr>\n",
       "      <th>p_reach</th>\n",
       "      <td>NaN</td>\n",
       "      <td>NaN</td>\n",
       "      <td>NaN</td>\n",
       "      <td>NaN</td>\n",
       "      <td>NaN</td>\n",
       "      <td>NaN</td>\n",
       "    </tr>\n",
       "    <tr>\n",
       "      <th>e_surplus</th>\n",
       "      <td>NaN</td>\n",
       "      <td>NaN</td>\n",
       "      <td>NaN</td>\n",
       "      <td>NaN</td>\n",
       "      <td>NaN</td>\n",
       "      <td>NaN</td>\n",
       "    </tr>\n",
       "  </tbody>\n",
       "</table>\n",
       "</div>"
      ],
      "text/plain": [
       "             zc  Equity  Floor 75  Floor 75  Floor 75  Max DD 25\n",
       "mean       1.34    1.98      1.96      1.63      1.97       1.64\n",
       "std        0.00    1.01      1.01      0.45      1.02       0.55\n",
       "p_breach    NaN    0.04       NaN       NaN       NaN        NaN\n",
       "e_short     NaN    0.12       NaN       NaN       NaN        NaN\n",
       "p_reach     NaN     NaN       NaN       NaN       NaN        NaN\n",
       "e_surplus   NaN     NaN       NaN       NaN       NaN        NaN"
      ]
     },
     "execution_count": 20,
     "metadata": {},
     "output_type": "execute_result"
    }
   ],
   "source": [
    "tv_maxdd25 = ark.terminal_values(rets_maxdd25)\n",
    "pd.concat([\n",
    "    ark.terminal_stats(rets_zc,name=\"zc\",floor=0.75),\n",
    "    ark.terminal_stats(rets_eq,name=\"Equity\",floor=0.75),\n",
    "    ark.terminal_stats(rets_75floor,name=\"Floor 75\",floor=0.75),\n",
    "    ark.terminal_stats(rets_75floorm1,name=\"Floor 75\",floor=0.75),\n",
    "    ark.terminal_stats(rets_75floorm5,name=\"Floor 75\",floor=0.75),\n",
    "    ark.terminal_stats(rets_maxdd25,name=\"Max DD 25\",floor=0.75)\n",
    "\n",
    "\n",
    "    ],axis=1).round(2)"
   ]
  },
  {
   "cell_type": "code",
   "execution_count": 21,
   "metadata": {},
   "outputs": [
    {
     "data": {
      "text/plain": [
       "0      -0.184944\n",
       "1      -0.158257\n",
       "2      -0.167839\n",
       "3      -0.175104\n",
       "4      -0.136135\n",
       "          ...   \n",
       "4995   -0.140872\n",
       "4996   -0.170276\n",
       "4997   -0.149755\n",
       "4998   -0.159832\n",
       "4999   -0.133687\n",
       "Name: Max Drawdown, Length: 5000, dtype: float64"
      ]
     },
     "execution_count": 21,
     "metadata": {},
     "output_type": "execute_result"
    }
   ],
   "source": [
    "ark.summary_stats(rets_maxdd25)[\"Max Drawdown\"]"
   ]
  },
  {
   "cell_type": "code",
   "execution_count": 22,
   "metadata": {},
   "outputs": [
    {
     "data": {
      "text/plain": [
       "-0.2336217640168237"
      ]
     },
     "execution_count": 22,
     "metadata": {},
     "output_type": "execute_result"
    }
   ],
   "source": [
    "ark.summary_stats(rets_maxdd25)[\"Max Drawdown\"].min()"
   ]
  },
  {
   "cell_type": "code",
   "execution_count": 34,
   "metadata": {},
   "outputs": [
    {
     "data": {
      "text/plain": [
       "<matplotlib.legend.Legend at 0x15d2bd1e1c8>"
      ]
     },
     "execution_count": 34,
     "metadata": {},
     "output_type": "execute_result"
    },
    {
     "data": {
      "image/png": "[encoded data removed]",
      "text/plain": [
       "<Figure size 864x432 with 1 Axes>"
      ]
     },
     "metadata": {
      "needs_background": "light"
     },
     "output_type": "display_data"
    }
   ],
   "source": [
    "# Plot\n",
    "tv_eq = ark.terminal_values(rets_eq)\n",
    "tv_7030b = ark.terminal_values(rets_7030b)\n",
    "tv_75floor = ark.terminal_values(rets_75floor)\n",
    "tv_maxdd25 = ark.terminal_values(rets_maxdd25)\n",
    "tv_75floorm1 = ark.terminal_values(rets_75floorm1)\n",
    "\n",
    "plt.figure(figsize=(12,6))\n",
    "sns.distplot(tv_eq,color=\"red\",label=\"100% equity\", bins=100)\n",
    "plt.axvline(tv_eq.mean(),ls=\"--\",color=\"red\")\n",
    "sns.distplot(tv_7030b,color=\"orange\",label=\"70/30 equity/bond\", bins=100)\n",
    "plt.axvline(tv_7030b.mean(),ls=\"--\",color=\"orange\")\n",
    "sns.distplot(tv_75floor,color=\"green\",label=\"Floor at 75%\", bins=100)\n",
    "plt.axvline(tv_75floor.mean(),ls=\"--\",color=\"green\")\n",
    "sns.distplot(tv_maxdd25,color=\"yellow\",label=\"Maxx DD 25%\", bins=100)\n",
    "plt.axvline(tv_maxdd25.mean(),ls=\"--\",color=\"yellow\")\n",
    "plt.legend()"
   ]
  },
  {
   "cell_type": "markdown",
   "metadata": {},
   "source": [
    "# Drawdown Constraint with Historical Data"
   ]
  },
  {
   "cell_type": "code",
   "execution_count": 37,
   "metadata": {},
   "outputs": [
    {
     "data": {
      "text/plain": [
       "<AxesSubplot:>"
      ]
     },
     "execution_count": 37,
     "metadata": {},
     "output_type": "execute_result"
    },
    {
     "data": {
      "image/png": "[encoded data removed]",
      "text/plain": [
       "<Figure size 864x432 with 1 Axes>"
      ]
     },
     "metadata": {
      "needs_background": "light"
     },
     "output_type": "display_data"
    }
   ],
   "source": [
    "rets_tmi = ark.get_total_market_index_returns()[\"1990\":]\n",
    "dd_tmi = ark.drawdown(rets_tmi)\n",
    "ax = dd_tmi[\"Wealth\"].plot(figsize=(12,6),ls=\"--\",color=\"goldenrod\")\n",
    "dd_tmi[\"Previous Peak\"].plot(ax=ax,ls=\":\",color=\"goldenrod\")"
   ]
  },
  {
   "cell_type": "code",
   "execution_count": 38,
   "metadata": {},
   "outputs": [],
   "source": [
    "cashrate = 0.03\n",
    "monthly_cash_return = (1+cashrate)**(1/12) - 1\n",
    "rets_cash = pd.DataFrame(data=monthly_cash_return, index = rets_tmi.index,columns = [0])\n",
    "rets_maxdd25 = ark.bt_mix(pd.DataFrame(rets_tmi),rets_cash,allocator=ark.drawdown_allocator,maxdd=0.25,m=5)\n",
    "dd_25=ark.drawdown(rets_maxdd25[0])"
   ]
  },
  {
   "cell_type": "code",
   "execution_count": 41,
   "metadata": {},
   "outputs": [
    {
     "data": {
      "text/plain": [
       "<AxesSubplot:>"
      ]
     },
     "execution_count": 41,
     "metadata": {},
     "output_type": "execute_result"
    },
    {
     "data": {
      "image/png": "[encoded data removed]",
      "text/plain": [
       "<Figure size 864x432 with 1 Axes>"
      ]
     },
     "metadata": {
      "needs_background": "light"
     },
     "output_type": "display_data"
    }
   ],
   "source": [
    "ax = dd_tmi[\"Wealth\"].plot(figsize=(12,6),ls=\"--\",color=\"goldenrod\",label=\"Market\",legend=True)\n",
    "dd_tmi[\"Previous Peak\"].plot(ax=ax,ls=\":\",color=\"goldenrod\")\n",
    "dd_25[\"Wealth\"].plot(ax=ax,label=\"Maxx DD 25%\",color=\"cornflowerblue\",legend=True)\n",
    "dd_25[\"Previous Peak\"].plot(ax=ax,ls=\":\",color=\"cornflowerblue\")"
   ]
  },
  {
   "cell_type": "code",
   "execution_count": 44,
   "metadata": {},
   "outputs": [
    {
     "data": {
      "text/html": [
       "<div>\n",
       "<style scoped>\n",
       "    .dataframe tbody tr th:only-of-type {\n",
       "        vertical-align: middle;\n",
       "    }\n",
       "\n",
       "    .dataframe tbody tr th {\n",
       "        vertical-align: top;\n",
       "    }\n",
       "\n",
       "    .dataframe thead th {\n",
       "        text-align: right;\n",
       "    }\n",
       "</style>\n",
       "<table border=\"1\" class=\"dataframe\">\n",
       "  <thead>\n",
       "    <tr style=\"text-align: right;\">\n",
       "      <th></th>\n",
       "      <th>Annualized Return</th>\n",
       "      <th>Annualized Volatity</th>\n",
       "      <th>Skewness</th>\n",
       "      <th>Kurtosis</th>\n",
       "      <th>Cornish-Fisher VaR</th>\n",
       "      <th>Historic cVaR</th>\n",
       "      <th>Sharpe Ratio</th>\n",
       "      <th>Max Drawdown</th>\n",
       "    </tr>\n",
       "  </thead>\n",
       "  <tbody>\n",
       "    <tr>\n",
       "      <th>Market</th>\n",
       "      <td>0.096058</td>\n",
       "      <td>0.145419</td>\n",
       "      <td>-0.668827</td>\n",
       "      <td>4.247282</td>\n",
       "      <td>0.066949</td>\n",
       "      <td>0.072102</td>\n",
       "      <td>0.652931</td>\n",
       "      <td>-0.499943</td>\n",
       "    </tr>\n",
       "    <tr>\n",
       "      <th>MaxDD</th>\n",
       "      <td>0.090062</td>\n",
       "      <td>0.112755</td>\n",
       "      <td>-0.630463</td>\n",
       "      <td>5.015334</td>\n",
       "      <td>0.049978</td>\n",
       "      <td>0.048441</td>\n",
       "      <td>0.788963</td>\n",
       "      <td>-0.244212</td>\n",
       "    </tr>\n",
       "  </tbody>\n",
       "</table>\n",
       "</div>"
      ],
      "text/plain": [
       "        Annualized Return  Annualized Volatity  Skewness  Kurtosis  \\\n",
       "Market           0.096058             0.145419 -0.668827  4.247282   \n",
       "MaxDD            0.090062             0.112755 -0.630463  5.015334   \n",
       "\n",
       "        Cornish-Fisher VaR  Historic cVaR  Sharpe Ratio  Max Drawdown  \n",
       "Market            0.066949       0.072102      0.652931     -0.499943  \n",
       "MaxDD             0.049978       0.048441      0.788963     -0.244212  "
      ]
     },
     "execution_count": 44,
     "metadata": {},
     "output_type": "execute_result"
    }
   ],
   "source": [
    "ark.summary_stats(pd.concat([rets_tmi.rename(\"Market\"),rets_maxdd25[0].rename(\"MaxDD\")],axis=1))"
   ]
  },
  {
   "cell_type": "code",
   "execution_count": null,
   "metadata": {},
   "outputs": [],
   "source": []
  }
 ],
 "metadata": {
  "kernelspec": {
   "display_name": "Python 3",
   "language": "python",
   "name": "python3"
  },
  "language_info": {
   "codemirror_mode": {
    "name": "ipython",
    "version": 3
   },
   "file_extension": ".py",
   "mimetype": "text/x-python",
   "name": "python",
   "nbconvert_exporter": "python",
   "pygments_lexer": "ipython3",
   "version": "3.7.7"
  }
 },
 "nbformat": 4,
 "nbformat_minor": 4
}
