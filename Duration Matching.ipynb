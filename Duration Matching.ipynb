{
 "cells": [
  {
   "cell_type": "code",
   "execution_count": 1,
   "metadata": {},
   "outputs": [],
   "source": [
    "import numpy as np\n",
    "import pandas as pd\n",
    "import AKCRiskKit as ark\n",
    "import ipywidgets as widgets\n",
    "%load_ext autoreload\n",
    "%autoreload 2"
   ]
  },
  {
   "cell_type": "code",
   "execution_count": 47,
   "metadata": {},
   "outputs": [],
   "source": [
    "rates = np.linspace(0.01,0.1,num=20)\n",
    "prices = [ark.bond_price(10,1000,0.05,2,rate) for rate in rates]"
   ]
  },
  {
   "cell_type": "code",
   "execution_count": 48,
   "metadata": {},
   "outputs": [
    {
     "data": {
      "text/plain": [
       "<AxesSubplot:title={'center':'Price of 10y bond with diff interest rates'}>"
      ]
     },
     "execution_count": 48,
     "metadata": {},
     "output_type": "execute_result"
    },
    {
     "data": {
      "image/png": "[encoded data removed]",
      "text/plain": [
       "<Figure size 432x288 with 1 Axes>"
      ]
     },
     "metadata": {
      "needs_background": "light"
     },
     "output_type": "display_data"
    }
   ],
   "source": [
    "pd.DataFrame(data=prices, index=rates).plot(title=\"Price of 10y bond with diff interest rates\",legend=False)"
   ]
  },
  {
   "cell_type": "code",
   "execution_count": 82,
   "metadata": {},
   "outputs": [
    {
     "data": {
      "text/plain": [
       "5.579707187194534"
      ]
     },
     "execution_count": 82,
     "metadata": {},
     "output_type": "execute_result"
    }
   ],
   "source": [
    "cf = ark.bond_cash_flow(3,1000,0.06,2)\n",
    "ark.macaulay_duration(cf,0.06/2)"
   ]
  },
  {
   "cell_type": "markdown",
   "metadata": {},
   "source": [
    "## Duration matching"
   ]
  },
  {
   "cell_type": "code",
   "execution_count": 84,
   "metadata": {},
   "outputs": [],
   "source": [
    "liabilities = pd.Series(data=[100000,100000],index=[10,12])"
   ]
  },
  {
   "cell_type": "code",
   "execution_count": 117,
   "metadata": {},
   "outputs": [
    {
     "data": {
      "text/plain": [
       "10.960799385088393"
      ]
     },
     "execution_count": 117,
     "metadata": {},
     "output_type": "execute_result"
    }
   ],
   "source": [
    "ark.macaulay_duration(liabilities,0.04)"
   ]
  },
  {
   "cell_type": "markdown",
   "metadata": {},
   "source": [
    "##### Assume you have only a 10 and 15 year bond"
   ]
  },
  {
   "cell_type": "code",
   "execution_count": 87,
   "metadata": {},
   "outputs": [],
   "source": [
    "md_10 = ark.macaulay_duration(ark.bond_cash_flow(10,1000,0.05,1),0.04)\n",
    "md_20 = ark.macaulay_duration(ark.bond_cash_flow(20,1000,0.05,1),0.04)"
   ]
  },
  {
   "cell_type": "code",
   "execution_count": 116,
   "metadata": {},
   "outputs": [
    {
     "data": {
      "text/plain": [
       "(8.190898824083233, 13.544718122145921)"
      ]
     },
     "execution_count": 116,
     "metadata": {},
     "output_type": "execute_result"
    }
   ],
   "source": [
    "md_10, md_20"
   ]
  },
  {
   "cell_type": "markdown",
   "metadata": {},
   "source": [
    "In our case the fraction in the short duration asset $w_s$ should be such that:\n",
    "\n",
    "$$ w_s \\times  md_10 + (1-w_s) \\times md_20 = md_liab $$\n",
    "\n",
    "Rearranging,\n",
    "\n",
    "$$ w_s = \\frac{d_l-d_t}{d_l-d_s} $$\n",
    "\n"
   ]
  },
  {
   "cell_type": "code",
   "execution_count": 94,
   "metadata": {},
   "outputs": [],
   "source": [
    "short_bond_cf= ark.bond_cash_flow(10,1000,0.05,1)\n",
    "long_bond_cf= ark.bond_cash_flow(20,1000,0.05,1)"
   ]
  },
  {
   "cell_type": "code",
   "execution_count": 161,
   "metadata": {},
   "outputs": [
    {
     "data": {
      "text/plain": [
       "0.48263092069478974"
      ]
     },
     "execution_count": 161,
     "metadata": {},
     "output_type": "execute_result"
    }
   ],
   "source": [
    "w_s = ark.match_duration(liabilities,short_bond_cf,long_bond_cf,0.04)\n",
    "w_s"
   ]
  },
  {
   "cell_type": "code",
   "execution_count": 162,
   "metadata": {},
   "outputs": [
    {
     "data": {
      "text/plain": [
       "10.960799385088393"
      ]
     },
     "execution_count": 162,
     "metadata": {},
     "output_type": "execute_result"
    }
   ],
   "source": [
    "p_short = ark.bond_price(10,1000,0.05,1,0.04)\n",
    "p_long = ark.bond_price(20,1000,0.05,1,0.04)\n",
    "a_0=130000\n",
    "p_flows = pd.concat([a_0*w_s*short_bond_cf/float(p_short),a_0*(1-w_s)*long_bond_cf/float(p_long)])\n",
    "ark.macaulay_duration(p_flow,0.04)"
   ]
  },
  {
   "cell_type": "code",
   "execution_count": 163,
   "metadata": {},
   "outputs": [
    {
     "data": {
      "text/plain": [
       "0.9998760012192478"
      ]
     },
     "execution_count": 163,
     "metadata": {},
     "output_type": "execute_result"
    }
   ],
   "source": [
    "cfr = ark.funding_ratio(p_flows,liabilities,0.04)\n",
    "float(cfr)"
   ]
  },
  {
   "cell_type": "code",
   "execution_count": 166,
   "metadata": {},
   "outputs": [],
   "source": [
    "rates = np.linspace(0,0.1,num=20)\n",
    "l_assets = a_0*long_bond_cf/float(p_long)\n",
    "s_assets = a_0*short_bond_cf/float(p_short)\n",
    "\n",
    "fr_changes = pd.DataFrame({\n",
    "    \"Long Bond\": [float(ark.funding_ratio(l_assets,liabilities, rate)) for rate in rates],\n",
    "    \"Short Bond\": [float(ark.funding_ratio(s_assets,liabilities, rate)) for rate in rates],\n",
    "    \"Duration Matched Bond\": [float(ark.funding_ratio(p_flows,liabilities, rate)) for rate in rates] \n",
    "},index=rates)\n",
    "\n"
   ]
  },
  {
   "cell_type": "code",
   "execution_count": 167,
   "metadata": {},
   "outputs": [
    {
     "data": {
      "text/plain": [
       "<AxesSubplot:title={'center':'Funding ratios with changes in interest rates'}>"
      ]
     },
     "execution_count": 167,
     "metadata": {},
     "output_type": "execute_result"
    },
    {
     "data": {
      "image/png": "[encoded data removed]",
      "text/plain": [
       "<Figure size 864x432 with 1 Axes>"
      ]
     },
     "metadata": {
      "needs_background": "light"
     },
     "output_type": "display_data"
    }
   ],
   "source": [
    "fr_changes.plot(title=\"Funding ratios with changes in interest rates\",figsize=(12,6))"
   ]
  },
  {
   "cell_type": "code",
   "execution_count": null,
   "metadata": {},
   "outputs": [],
   "source": []
  }
 ],
 "metadata": {
  "kernelspec": {
   "display_name": "Python 3",
   "language": "python",
   "name": "python3"
  },
  "language_info": {
   "codemirror_mode": {
    "name": "ipython",
    "version": 3
   },
   "file_extension": ".py",
   "mimetype": "text/x-python",
   "name": "python",
   "nbconvert_exporter": "python",
   "pygments_lexer": "ipython3",
   "version": "3.7.7"
  }
 },
 "nbformat": 4,
 "nbformat_minor": 4
}
