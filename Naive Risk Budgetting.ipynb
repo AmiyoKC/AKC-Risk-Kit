{
 "cells": [
  {
   "cell_type": "markdown",
   "metadata": {},
   "source": [
    "## Naive Risk Budgeting Strategies between PSP and GHP"
   ]
  },
  {
   "cell_type": "code",
   "execution_count": 27,
   "metadata": {},
   "outputs": [
    {
     "name": "stdout",
     "output_type": "stream",
     "text": [
      "The autoreload extension is already loaded. To reload it, use:\n",
      "  %reload_ext autoreload\n"
     ]
    }
   ],
   "source": [
    "import numpy as np\n",
    "import pandas as pd\n",
    "import AKCRiskKit as ark\n",
    "import ipywidgets as widgets\n",
    "%load_ext autoreload\n",
    "%autoreload 2"
   ]
  },
  {
   "cell_type": "code",
   "execution_count": 2,
   "metadata": {},
   "outputs": [],
   "source": []
  },
  {
   "cell_type": "code",
   "execution_count": 3,
   "metadata": {},
   "outputs": [],
   "source": []
  },
  {
   "cell_type": "code",
   "execution_count": 38,
   "metadata": {},
   "outputs": [
    {
     "data": {
      "text/html": [
       "<div>\n",
       "<style scoped>\n",
       "    .dataframe tbody tr th:only-of-type {\n",
       "        vertical-align: middle;\n",
       "    }\n",
       "\n",
       "    .dataframe tbody tr th {\n",
       "        vertical-align: top;\n",
       "    }\n",
       "\n",
       "    .dataframe thead th {\n",
       "        text-align: right;\n",
       "    }\n",
       "</style>\n",
       "<table border=\"1\" class=\"dataframe\">\n",
       "  <thead>\n",
       "    <tr style=\"text-align: right;\">\n",
       "      <th></th>\n",
       "      <th>Annualized Return</th>\n",
       "      <th>Annualized Volatity</th>\n",
       "      <th>Skewness</th>\n",
       "      <th>Kurtosis</th>\n",
       "      <th>Cornish-Fisher VaR</th>\n",
       "      <th>Historic cVaR</th>\n",
       "      <th>Sharpe Ratio</th>\n",
       "      <th>Max Drawdown</th>\n",
       "    </tr>\n",
       "  </thead>\n",
       "  <tbody>\n",
       "    <tr>\n",
       "      <th>0</th>\n",
       "      <td>0.036494</td>\n",
       "      <td>0.003563</td>\n",
       "      <td>0.368043</td>\n",
       "      <td>4.320073</td>\n",
       "      <td>-0.001444</td>\n",
       "      <td>-0.001559</td>\n",
       "      <td>9.385412</td>\n",
       "      <td>-0.000292</td>\n",
       "    </tr>\n",
       "  </tbody>\n",
       "</table>\n",
       "</div>"
      ],
      "text/plain": [
       "   Annualized Return  Annualized Volatity  Skewness  Kurtosis  \\\n",
       "0           0.036494             0.003563  0.368043  4.320073   \n",
       "\n",
       "   Cornish-Fisher VaR  Historic cVaR  Sharpe Ratio  Max Drawdown  \n",
       "0           -0.001444      -0.001559      9.385412     -0.000292  "
      ]
     },
     "execution_count": 38,
     "metadata": {},
     "output_type": "execute_result"
    }
   ],
   "source": [
    "rates, zc_prices = ark.cir(10,500,b=0.03,r_0=0.03)\n",
    "price_10 =ark.bond_price(10,100,0.05,12,rates)\n",
    "price_30 =ark.bond_price(30,100,0.05,12,rates)\n",
    "rets_30 = ark.bond_total_return(price_30,100,0.05,12)\n",
    "rets_10 = ark.bond_total_return(price_10,100,0.05,12)\n",
    "rets_bonds = ark.bt_mix(rets_10,rets_30,allocator=fixedmix_allocator,w1=0.6)\n",
    "mean_rets_bonds = rets_bonds.mean(axis=\"columns\")\n",
    "ark.summary_stats(pd.DataFrame(mean_rets_bonds))"
   ]
  },
  {
   "cell_type": "code",
   "execution_count": 39,
   "metadata": {},
   "outputs": [],
   "source": [
    "price_eq = ark.gbm(10,500,mu=0.07,sigma=0.15)\n",
    "#rets_eq = ark.gbm(10,500,mu=0.07,sigma=0.15,prices=False)\n",
    "rets_eq = price_eq.pct_change().dropna()\n",
    "rets_zc = zc_prices.pct_change().dropna()"
   ]
  },
  {
   "cell_type": "code",
   "execution_count": 40,
   "metadata": {},
   "outputs": [
    {
     "data": {
      "text/html": [
       "<div>\n",
       "<style scoped>\n",
       "    .dataframe tbody tr th:only-of-type {\n",
       "        vertical-align: middle;\n",
       "    }\n",
       "\n",
       "    .dataframe tbody tr th {\n",
       "        vertical-align: top;\n",
       "    }\n",
       "\n",
       "    .dataframe thead th {\n",
       "        text-align: right;\n",
       "    }\n",
       "</style>\n",
       "<table border=\"1\" class=\"dataframe\">\n",
       "  <thead>\n",
       "    <tr style=\"text-align: right;\">\n",
       "      <th></th>\n",
       "      <th>Annualized Return</th>\n",
       "      <th>Annualized Volatity</th>\n",
       "      <th>Skewness</th>\n",
       "      <th>Kurtosis</th>\n",
       "      <th>Cornish-Fisher VaR</th>\n",
       "      <th>Historic cVaR</th>\n",
       "      <th>Sharpe Ratio</th>\n",
       "      <th>Max Drawdown</th>\n",
       "    </tr>\n",
       "  </thead>\n",
       "  <tbody>\n",
       "    <tr>\n",
       "      <th>0</th>\n",
       "      <td>0.061507</td>\n",
       "      <td>0.004141</td>\n",
       "      <td>-0.214124</td>\n",
       "      <td>3.97416</td>\n",
       "      <td>-0.002981</td>\n",
       "      <td>-0.003209</td>\n",
       "      <td>14.098593</td>\n",
       "      <td>0.0</td>\n",
       "    </tr>\n",
       "  </tbody>\n",
       "</table>\n",
       "</div>"
      ],
      "text/plain": [
       "   Annualized Return  Annualized Volatity  Skewness  Kurtosis  \\\n",
       "0           0.061507             0.004141 -0.214124   3.97416   \n",
       "\n",
       "   Cornish-Fisher VaR  Historic cVaR  Sharpe Ratio  Max Drawdown  \n",
       "0           -0.002981      -0.003209     14.098593           0.0  "
      ]
     },
     "execution_count": 40,
     "metadata": {},
     "output_type": "execute_result"
    }
   ],
   "source": [
    "rets_7030b = bt_mix(rets_eq,rets_bonds,allocator=fixedmix_allocator, w1=0.7)\n",
    "rets_7030b_mean = rets_7030b.mean(axis=1)\n",
    "ark.summary_stats(pd.DataFrame(rets_7030b_mean))"
   ]
  },
  {
   "cell_type": "code",
   "execution_count": 41,
   "metadata": {},
   "outputs": [],
   "source": [
    "summaries = ark.summary_stats(rets_7030b)"
   ]
  },
  {
   "cell_type": "code",
   "execution_count": 42,
   "metadata": {},
   "outputs": [
    {
     "data": {
      "text/plain": [
       "Annualized Return      0.056021\n",
       "Annualized Volatity    0.107486\n",
       "Skewness              -0.004447\n",
       "Kurtosis               2.965668\n",
       "Cornish-Fisher VaR     0.045866\n",
       "Historic cVaR          0.045098\n",
       "Sharpe Ratio           0.494828\n",
       "Max Drawdown          -0.206906\n",
       "dtype: float64"
      ]
     },
     "execution_count": 42,
     "metadata": {},
     "output_type": "execute_result"
    }
   ],
   "source": [
    "summaries.mean()"
   ]
  },
  {
   "cell_type": "code",
   "execution_count": 46,
   "metadata": {},
   "outputs": [
    {
     "data": {
      "text/html": [
       "<div>\n",
       "<style scoped>\n",
       "    .dataframe tbody tr th:only-of-type {\n",
       "        vertical-align: middle;\n",
       "    }\n",
       "\n",
       "    .dataframe tbody tr th {\n",
       "        vertical-align: top;\n",
       "    }\n",
       "\n",
       "    .dataframe thead th {\n",
       "        text-align: right;\n",
       "    }\n",
       "</style>\n",
       "<table border=\"1\" class=\"dataframe\">\n",
       "  <thead>\n",
       "    <tr style=\"text-align: right;\">\n",
       "      <th></th>\n",
       "      <th>FI</th>\n",
       "      <th>Equity</th>\n",
       "      <th>70/30</th>\n",
       "    </tr>\n",
       "  </thead>\n",
       "  <tbody>\n",
       "    <tr>\n",
       "      <th>mean</th>\n",
       "      <td>1.392246</td>\n",
       "      <td>2.024252</td>\n",
       "      <td>1.816623</td>\n",
       "    </tr>\n",
       "    <tr>\n",
       "      <th>std</th>\n",
       "      <td>0.107407</td>\n",
       "      <td>1.107675</td>\n",
       "      <td>0.655595</td>\n",
       "    </tr>\n",
       "    <tr>\n",
       "      <th>p_breach</th>\n",
       "      <td>NaN</td>\n",
       "      <td>0.038000</td>\n",
       "      <td>0.004000</td>\n",
       "    </tr>\n",
       "    <tr>\n",
       "      <th>e_short</th>\n",
       "      <td>NaN</td>\n",
       "      <td>0.103735</td>\n",
       "      <td>0.203942</td>\n",
       "    </tr>\n",
       "    <tr>\n",
       "      <th>p_reach</th>\n",
       "      <td>NaN</td>\n",
       "      <td>NaN</td>\n",
       "      <td>NaN</td>\n",
       "    </tr>\n",
       "    <tr>\n",
       "      <th>e_surplus</th>\n",
       "      <td>NaN</td>\n",
       "      <td>NaN</td>\n",
       "      <td>NaN</td>\n",
       "    </tr>\n",
       "  </tbody>\n",
       "</table>\n",
       "</div>"
      ],
      "text/plain": [
       "                 FI    Equity     70/30\n",
       "mean       1.392246  2.024252  1.816623\n",
       "std        0.107407  1.107675  0.655595\n",
       "p_breach        NaN  0.038000  0.004000\n",
       "e_short         NaN  0.103735  0.203942\n",
       "p_reach         NaN       NaN       NaN\n",
       "e_surplus       NaN       NaN       NaN"
      ]
     },
     "execution_count": 46,
     "metadata": {},
     "output_type": "execute_result"
    }
   ],
   "source": [
    "pd.concat([\n",
    "    ark.terminal_stats(rets_bonds,name=\"FI\"),\n",
    "    ark.terminal_stats(rets_eq,name=\"Equity\"),\n",
    "    ark.terminal_stats(rets_7030b,name=\"70/30\")\n",
    "\n",
    "    ],axis=1)\n"
   ]
  },
  {
   "cell_type": "code",
   "execution_count": 53,
   "metadata": {},
   "outputs": [
    {
     "data": {
      "text/plain": [
       "<matplotlib.legend.Legend at 0x1f2e227bd08>"
      ]
     },
     "execution_count": 53,
     "metadata": {},
     "output_type": "execute_result"
    },
    {
     "data": {
      "image/png": "[encoded data removed]",
      "text/plain": [
       "<Figure size 864x432 with 1 Axes>"
      ]
     },
     "metadata": {
      "needs_background": "light"
     },
     "output_type": "display_data"
    }
   ],
   "source": [
    "import seaborn as sns\n",
    "import matplotlib.pyplot as plt\n",
    "plt.figure(figsize=(12,6))\n",
    "sns.distplot(ark.terminal_values(rets_eq),color=\"red\",label=\"100% equities\")\n",
    "sns.distplot(ark.terminal_values(rets_bonds),color=\"blue\",label=\"100% bonds\")\n",
    "sns.distplot(ark.terminal_values(rets_7030b),color=\"green\",label=\"70/30 equities/bonds\")\n",
    "plt.legend()"
   ]
  },
  {
   "cell_type": "markdown",
   "metadata": {},
   "source": [
    "## Glide Paths for Allocations"
   ]
  },
  {
   "cell_type": "code",
   "execution_count": 57,
   "metadata": {},
   "outputs": [],
   "source": [
    "rets_g8020 = ark.bt_mix(rets_eq,rets_bonds,allocator=ark.glidepath_allocator,start_glide=0.80,end_glide=0.20)"
   ]
  },
  {
   "cell_type": "code",
   "execution_count": 59,
   "metadata": {},
   "outputs": [
    {
     "data": {
      "text/plain": [
       "<matplotlib.legend.Legend at 0x1f2e2162a08>"
      ]
     },
     "execution_count": 59,
     "metadata": {},
     "output_type": "execute_result"
    },
    {
     "data": {
      "image/png": "[encoded data removed]",
      "text/plain": [
       "<Figure size 432x288 with 1 Axes>"
      ]
     },
     "metadata": {
      "needs_background": "light"
     },
     "output_type": "display_data"
    }
   ],
   "source": [
    "sns.distplot(ark.terminal_values(rets_eq),color=\"red\",label=\"100% equities\")\n",
    "sns.distplot(ark.terminal_values(rets_bonds),color=\"blue\",label=\"100% bonds\")\n",
    "sns.distplot(ark.terminal_values(rets_7030b),color=\"green\",label=\"70/30 equities/bonds\")\n",
    "sns.distplot(ark.terminal_values(rets_g8020),color=\"orange\",label=\"Glide 80 to 20\")\n",
    "plt.legend()"
   ]
  },
  {
   "cell_type": "code",
   "execution_count": 60,
   "metadata": {},
   "outputs": [
    {
     "data": {
      "text/html": [
       "<div>\n",
       "<style scoped>\n",
       "    .dataframe tbody tr th:only-of-type {\n",
       "        vertical-align: middle;\n",
       "    }\n",
       "\n",
       "    .dataframe tbody tr th {\n",
       "        vertical-align: top;\n",
       "    }\n",
       "\n",
       "    .dataframe thead th {\n",
       "        text-align: right;\n",
       "    }\n",
       "</style>\n",
       "<table border=\"1\" class=\"dataframe\">\n",
       "  <thead>\n",
       "    <tr style=\"text-align: right;\">\n",
       "      <th></th>\n",
       "      <th>FI</th>\n",
       "      <th>Equity</th>\n",
       "      <th>70/30</th>\n",
       "      <th>Glide path 80 to 20</th>\n",
       "    </tr>\n",
       "  </thead>\n",
       "  <tbody>\n",
       "    <tr>\n",
       "      <th>mean</th>\n",
       "      <td>1.392246</td>\n",
       "      <td>2.024252</td>\n",
       "      <td>1.816623</td>\n",
       "      <td>1.691966</td>\n",
       "    </tr>\n",
       "    <tr>\n",
       "      <th>std</th>\n",
       "      <td>0.107407</td>\n",
       "      <td>1.107675</td>\n",
       "      <td>0.655595</td>\n",
       "      <td>0.457484</td>\n",
       "    </tr>\n",
       "    <tr>\n",
       "      <th>p_breach</th>\n",
       "      <td>NaN</td>\n",
       "      <td>0.038000</td>\n",
       "      <td>0.004000</td>\n",
       "      <td>0.002000</td>\n",
       "    </tr>\n",
       "    <tr>\n",
       "      <th>e_short</th>\n",
       "      <td>NaN</td>\n",
       "      <td>0.103735</td>\n",
       "      <td>0.203942</td>\n",
       "      <td>0.032958</td>\n",
       "    </tr>\n",
       "    <tr>\n",
       "      <th>p_reach</th>\n",
       "      <td>NaN</td>\n",
       "      <td>NaN</td>\n",
       "      <td>NaN</td>\n",
       "      <td>NaN</td>\n",
       "    </tr>\n",
       "    <tr>\n",
       "      <th>e_surplus</th>\n",
       "      <td>NaN</td>\n",
       "      <td>NaN</td>\n",
       "      <td>NaN</td>\n",
       "      <td>NaN</td>\n",
       "    </tr>\n",
       "  </tbody>\n",
       "</table>\n",
       "</div>"
      ],
      "text/plain": [
       "                 FI    Equity     70/30  Glide path 80 to 20\n",
       "mean       1.392246  2.024252  1.816623             1.691966\n",
       "std        0.107407  1.107675  0.655595             0.457484\n",
       "p_breach        NaN  0.038000  0.004000             0.002000\n",
       "e_short         NaN  0.103735  0.203942             0.032958\n",
       "p_reach         NaN       NaN       NaN                  NaN\n",
       "e_surplus       NaN       NaN       NaN                  NaN"
      ]
     },
     "execution_count": 60,
     "metadata": {},
     "output_type": "execute_result"
    }
   ],
   "source": [
    "pd.concat([\n",
    "    ark.terminal_stats(rets_bonds,name=\"FI\"),\n",
    "    ark.terminal_stats(rets_eq,name=\"Equity\"),\n",
    "    ark.terminal_stats(rets_7030b,name=\"70/30\"),\n",
    "    ark.terminal_stats(rets_g8020,name=\"Glide path 80 to 20\")\n",
    "\n",
    "    ],axis=1)"
   ]
  },
  {
   "cell_type": "code",
   "execution_count": null,
   "metadata": {},
   "outputs": [],
   "source": []
  }
 ],
 "metadata": {
  "kernelspec": {
   "display_name": "Python 3",
   "language": "python",
   "name": "python3"
  },
  "language_info": {
   "codemirror_mode": {
    "name": "ipython",
    "version": 3
   },
   "file_extension": ".py",
   "mimetype": "text/x-python",
   "name": "python",
   "nbconvert_exporter": "python",
   "pygments_lexer": "ipython3",
   "version": "3.7.7"
  }
 },
 "nbformat": 4,
 "nbformat_minor": 4
}
